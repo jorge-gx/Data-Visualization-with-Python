{
 "cells": [
  {
   "cell_type": "markdown",
   "id": "47364ba4",
   "metadata": {},
   "source": [
    "## INTERACTIVEVISUALIZATIONWITHBOKEH/INTERACTIVEPLOTS/INTERACTIVEVISUALIZATIONWITHBOKEH INTERACTIVEPLOTS 4 EXERCISE  ##\n",
    "#### Please refer to module 1 of InteractiveVisualizationWithBokeh - InteractivePlots for Tasks 1-2\n",
    "#### Task 1\n",
    "##### Import the required packages.\n",
    "##### Set `data_dir` and `plot_dir` to the path of the data/plot directory.\n",
    "##### Print `data_dir` and `plot_dir`.\n",
    "#### Result:\n"
   ]
  },
  {
   "cell_type": "code",
   "execution_count": null,
   "id": "6842b8e3",
   "metadata": {},
   "outputs": [],
   "source": []
  },
  {
   "cell_type": "markdown",
   "id": "2c143d88",
   "metadata": {},
   "source": [
    "#### Task 2\n",
    "#####  Use `output_notebook() ` function to display your Bokeh plots within the Jupyter notebooks.\n",
    "##### Create a figure `p_ex` with `plot_width = 500` and `plot_height = 500`.\n",
    "##### Create a simple plot with diamond glyphs using the following data:\n",
    "##### `x_values_ex = [22, 34, 71, 80, 12]`\n",
    "##### `y_values_ex = [61, 27, 42, 13, 46]`\n",
    "##### Set `size` of the diamond to `25`.\n",
    "##### Set `color `of the glyph to `orange`.\n",
    "##### Set `alpha` value of the diamond  to `0.6`.\n",
    "#### Result:\n"
   ]
  },
  {
   "cell_type": "code",
   "execution_count": null,
   "id": "b0338a13",
   "metadata": {},
   "outputs": [],
   "source": []
  },
  {
   "cell_type": "markdown",
   "id": "1c249a8a",
   "metadata": {},
   "source": [
    "#### Please refer to module 2 of InteractiveVisualizationWithBokeh - InteractivePlots for Tasks 3-10\n",
    "#### Task 3\n",
    "##### Load the `chicago_census.csv` dataset. \n",
    "##### Save it as `chicago_census`.\n",
    "##### View the first few rows of `chicago_census`.\n",
    "#### Result:\n"
   ]
  },
  {
   "cell_type": "code",
   "execution_count": null,
   "id": "971a808a",
   "metadata": {},
   "outputs": [],
   "source": []
  },
  {
   "cell_type": "markdown",
   "id": "4d8720e5",
   "metadata": {},
   "source": [
    "#### Task 4\n",
    "###### Rename the column names as the following (and double check they are renamed by looking at `.columns`:\n"
   ]
  },
  {
   "cell_type": "code",
   "execution_count": null,
   "id": "c122343b",
   "metadata": {},
   "outputs": [],
   "source": [
    "chicago_census.rename(\n",
    "    columns={\n",
    "        \"Community Area Number\": \"community_number\",\n",
    "        \"COMMUNITY AREA NAME\": \"community_area\",\n",
    "        \"PERCENT OF HOUSING CROWDED\": \"percent_house_crowded\",\n",
    "        \"PERCENT HOUSEHOLDS BELOW POVERTY\": \"percent_house_below_poverty\",\n",
    "        \"PERCENT AGED 16+ UNEMPLOYED\": \"percent_16_unemployed\",\n",
    "        \"PERCENT AGED 25+ WITHOUT HIGH SCHOOL DIPLOMA\": \"percent_25_without_diploma\",\n",
    "        \"PERCENT AGED UNDER 18 OR OVER 64\": \"percent_dependent\",\n",
    "        \"PER CAPITA INCOME \": \"per_capita_income\",\n",
    "        \"HARDSHIP INDEX\": \"hardship_index\",\n",
    "    },\n",
    "    inplace=True,\n",
    ")"
   ]
  },
  {
   "cell_type": "markdown",
   "id": "658055d8",
   "metadata": {},
   "source": [
    "#### Result:\n"
   ]
  },
  {
   "cell_type": "code",
   "execution_count": null,
   "id": "5646a3d1",
   "metadata": {},
   "outputs": [],
   "source": []
  },
  {
   "cell_type": "markdown",
   "id": "8c5bb267",
   "metadata": {},
   "source": [
    "#### Task 5\n",
    "##### Drop columns `community_number` and `community_area` from the dataframe.\n",
    "##### Look for NAs in `chicago_census` and impute with the mean of the column.\n",
    "##### Check for NAs again to make sure the data looks good.\n",
    "#### Result:\n"
   ]
  },
  {
   "cell_type": "code",
   "execution_count": null,
   "id": "52d2cdfa",
   "metadata": {},
   "outputs": [],
   "source": []
  },
  {
   "cell_type": "markdown",
   "id": "4de9e4fa",
   "metadata": {},
   "source": [
    "#### Task 6\n",
    "##### Create a variable `mean_per_capita_income` which contains the mean of `per_capita_income` from `chicago_census`.\n",
    "##### Convert `per_capita_income` variable to a binary variable where `per_capita_income` is set to 0 if per_capita_income of the row is less than `mean per_capita_income`, otherwise set `per_capita_income` to 1.\n",
    "##### Make a new duplicate dataframe called `ex_viz`.\n",
    "#### Result:\n"
   ]
  },
  {
   "cell_type": "code",
   "execution_count": null,
   "id": "85a94d92",
   "metadata": {},
   "outputs": [],
   "source": []
  },
  {
   "cell_type": "markdown",
   "id": "91d8f4c0",
   "metadata": {},
   "source": [
    "#### Task 7\n",
    "##### Create a variable called `per_capita_income_class` whose value is `low` if `per_capita_income` is 0 and `high` if `per_capita_income` is 1. \n",
    "##### Create a figure  `p_ex` with `plot_width = 500` and `plot_height = 500` .\n",
    "##### Create a plot with circle glyphs, with `percent_dependent` on the x-axis and  `hardship_index` on the y-axis.\n",
    "##### Set `size` of the circles as `10`, `color `as `darkgreen` and `alpha` as `0.7`. \n",
    "##### Set `title` of the figure and name the x-axis and y-axis appropriately.\n",
    "#### Result:\n"
   ]
  },
  {
   "cell_type": "code",
   "execution_count": null,
   "id": "e5daf289",
   "metadata": {},
   "outputs": [],
   "source": []
  },
  {
   "cell_type": "markdown",
   "id": "a08716d3",
   "metadata": {},
   "source": [
    "#### Task 8\n",
    "##### Print out the counts of the two levels in `per_capita_income` in the `ex_viz` dataset. \n",
    "##### Create a figure  `p_ex`  with `plot_width = 500` and `plot_height = 500` .\n",
    "##### Create a vertical barchart with ``x` = per_capita_income` and `top` = counts of the two levels in `per_capita_income`.\n",
    "##### Set `color` of the bars to `plum` and their `width` to `0.5`.\n",
    "#### Result:\n"
   ]
  },
  {
   "cell_type": "code",
   "execution_count": null,
   "id": "c5132be4",
   "metadata": {},
   "outputs": [],
   "source": []
  },
  {
   "cell_type": "markdown",
   "id": "9a1c1fb0",
   "metadata": {},
   "source": [
    "#### Task 9\n",
    "##### Create a figure  `p_ex`  with `plot_width = 500` and `plot_height = 500` .\n",
    "##### Create the same barchart from Task 3, however this time, make it horizontal.\n",
    "##### Make sure to set  `y =  per_capita_income` and `right`= counts of the two levels in `per_capita_income`.\n",
    "##### Set `color` of the bars to `indianred` and their `width` to `0.5`.\n",
    "#### Result:\n"
   ]
  },
  {
   "cell_type": "code",
   "execution_count": null,
   "id": "079859a6",
   "metadata": {},
   "outputs": [],
   "source": []
  },
  {
   "cell_type": "markdown",
   "id": "7bb01eda",
   "metadata": {},
   "source": [
    "#### Task 10\n",
    "##### Create a figure  `p_ex` with `plot_width = 500` and `plot_height = 500` .\n",
    "##### Create a scatterplot with`percent_16_unemployed` on the x-axis and  `hardship_index` on the y-axis. \n",
    "##### This time, use square markers for values where `per_capita_income_class` is \"low\" and triangle markers where `per_capita_income_class` is \"high\".\n",
    "##### This can be done via the following steps:\n"
   ]
  },
  {
   "cell_type": "code",
   "execution_count": null,
   "id": "5b204dc3",
   "metadata": {},
   "outputs": [],
   "source": [
    "* Create an array called `levels_ex` with \"low\" and \"high\".\n",
    "* Create an array called `markers_ex` with \"square\" and \"triangle\".\n",
    "* Create the scatter plot with`percent_16_unemployed` on the x-axis and  `hardship_index` on the y-axis and legend = \"Per capita income class\".\n",
    "* Use factor_mark() to create markers called using `levels_ex` and`markers_ex`.\n",
    "* Use factor_cmap() to colormap the markers to the levels using the colorscale \"Category10_7\".\n",
    "* Make sure to set the title and axis labels appropriately.\n"
   ]
  },
  {
   "cell_type": "markdown",
   "id": "82afb8d2",
   "metadata": {},
   "source": [
    "#####  What do you notice about the difference between the two classes in the scatterplot?\n",
    "#### Result:\n"
   ]
  },
  {
   "cell_type": "code",
   "execution_count": null,
   "id": "50f4f8db",
   "metadata": {},
   "outputs": [],
   "source": []
  },
  {
   "cell_type": "markdown",
   "id": "d48ef820",
   "metadata": {},
   "source": [
    "##### We notice that the households with above mean per capita income have lower hardship index and lower percent_16_unemployed compared to those with below mean per capita income. \n",
    "#### Please refer to module 3 of InteractiveVisualizationWithBokeh - InteractivePlots for Tasks 11-23\n",
    "#### Task 11\n",
    "##### Create an array `tools` with `box_select` `hover` and `reset`.\n",
    "##### Recreate the circle glyph plot, the vertical barchart and the scatterplot from last module. \n",
    "##### Name them `p_ex1`, `p_ex2` and `p_ex3` respectively. \n",
    "##### Make sure all 3 figures have `plot_width = 500` and `plot_height = 500` .\n",
    "##### Arrange them in row layout. \n",
    "##### Add the `box_select`, `hover` and `reset` tools to all three figures.\n",
    "#### Result:\n"
   ]
  },
  {
   "cell_type": "code",
   "execution_count": null,
   "id": "f4c28312",
   "metadata": {},
   "outputs": [],
   "source": []
  },
  {
   "cell_type": "markdown",
   "id": "4bc18d59",
   "metadata": {},
   "source": [
    "#### Task 12\n",
    "##### Create a `grid` layout for the plots `p_ex1`, `p_ex2` and  `p_ex3` created in the previous Task.\n",
    "##### Set plots `p_ex1` and  `p_ex2` in the first row and plot  `p_ex3` in the bottom right position.f `pop` and set `text` as `country`.\n",
    "##### Set `locations` as `iso_alpha`.\n",
    "#### Result:\n"
   ]
  },
  {
   "cell_type": "code",
   "execution_count": null,
   "id": "86dc39a1",
   "metadata": {},
   "outputs": [],
   "source": []
  },
  {
   "cell_type": "markdown",
   "id": "d6fe71b8",
   "metadata": {},
   "source": [
    "#### Task 13\n",
    "##### Convert dataframe `ex_viz` to column data source and save in a variable named `src_ex`.\n",
    "##### Customize a hover tooltip to display \"% Dependent\" for `percent_dependent` and \"Hardship Index\" for `hardship_index`.\n",
    "##### Create the circle glyph plot `p_ex`  from Task 1 using `src_ex` as `source`.\n",
    "##### Add the hover tool to this plot.\n",
    "#### Result:\n"
   ]
  },
  {
   "cell_type": "code",
   "execution_count": null,
   "id": "67d649e4",
   "metadata": {},
   "outputs": [],
   "source": []
  },
  {
   "cell_type": "markdown",
   "id": "f5a9f5c9",
   "metadata": {},
   "source": [
    "#### Task 14\n",
    "##### Recreate the circle glyph plot  `p_ex` from Task 3 of Exercise 1 adding a functionality to highlight certain points.\n",
    "##### This can be done via the following steps:\n"
   ]
  },
  {
   "cell_type": "code",
   "execution_count": null,
   "id": "afe08c88",
   "metadata": {},
   "outputs": [],
   "source": [
    "* Convert dataframe `ex_viz` to column data source and save in a variable named `src_ex`.\n",
    "* Create a figure with `plot_width = 500` and `plot_height = 500` .\n",
    "* Add the `box_select`, `lasso_select`, `poly_select`,`hover` and `reset` tools to the figure. \n",
    "* Create the circle glyph plot with  with `percent_dependent` on the x-axis and  `hardship_index` on the y-axis using `src_ex` as the source.\n",
    "* Set `color` of the circles to `indianred`.\n",
    "* Set `color` of the  selected circles to  `darkred` and the non-selected circles to `lightgray`.\n",
    "* Set `alpha` of the non-selected circles to `0.3`. \n",
    "* Customize a hover tooltip to display \"% Dependent\" for `percent_dependent` and \"Hardship Index\" for `hardship_index`.\n",
    "* Add the hover tool to this plot.\n"
   ]
  },
  {
   "cell_type": "markdown",
   "id": "86d6b63c",
   "metadata": {},
   "source": [
    "#### Result:\n"
   ]
  },
  {
   "cell_type": "code",
   "execution_count": null,
   "id": "b5872810",
   "metadata": {},
   "outputs": [],
   "source": []
  },
  {
   "cell_type": "markdown",
   "id": "d56d77c8",
   "metadata": {},
   "source": [
    "#### Task 15\n",
    "##### Recreate the circle glyph plot  `p_ex` from the previous Task.\n",
    "##### Creating a new circle glyph named `hover_glyph` to display the data point hovered over as a yellow circle with `alpha = 0.8`. \n",
    "##### Add it  as `renderers` to  the figure `p_ex` from Task 1  using  `.add_tools()`.\n",
    "#### Result:\n"
   ]
  },
  {
   "cell_type": "code",
   "execution_count": null,
   "id": "ff43fb2d",
   "metadata": {},
   "outputs": [],
   "source": []
  },
  {
   "cell_type": "markdown",
   "id": "36f8a4e3",
   "metadata": {},
   "source": [
    "#### Task 16\n",
    "##### Convert dataframe `ex_viz` to column data source and save in a variable named `src_ex`.\n",
    "##### Create a filter and view for the labels \"low\" and \"high\" labels of `per_capita_income_class`.\n",
    "##### Name the filters `low_filters_ex` and `low_view_ex` and `high_filters_ex` and `high_view_ex` respectively.\n",
    "#### Result:\n"
   ]
  },
  {
   "cell_type": "code",
   "execution_count": null,
   "id": "7a8f5849",
   "metadata": {},
   "outputs": [],
   "source": []
  },
  {
   "cell_type": "markdown",
   "id": "7370865f",
   "metadata": {},
   "source": [
    "#### Task 17\n",
    "##### Create a dictionary  `common_figure_kwargs_ex`  with the arguments for the figure. \n"
   ]
  },
  {
   "cell_type": "code",
   "execution_count": null,
   "id": "596a11d8",
   "metadata": {},
   "outputs": [],
   "source": [
    "* 'plot_width': 500\n",
    "* 'plot_height': 500\n",
    "* 'x_axis_label': 'percent_dependent'\n",
    "* 'y_axis_label' : 'hardship_index'\n",
    "* 'toolbar_location': None\n"
   ]
  },
  {
   "cell_type": "markdown",
   "id": "07ee3472",
   "metadata": {},
   "source": [
    "#### Result:\n"
   ]
  },
  {
   "cell_type": "code",
   "execution_count": null,
   "id": "65b5e965",
   "metadata": {},
   "outputs": [],
   "source": []
  },
  {
   "cell_type": "markdown",
   "id": "674a8454",
   "metadata": {},
   "source": [
    "#### Task 18\n",
    "##### Create a dictionary  `common_circle_kwargs_ex`  with the arguments for the circle glyphs:\n"
   ]
  },
  {
   "cell_type": "code",
   "execution_count": null,
   "id": "f6167c1e",
   "metadata": {},
   "outputs": [],
   "source": [
    "* 'x': 'percent_dependent'\n",
    "* 'y': 'hardship_index'\n",
    "* 'source': src_ex\n",
    "* 'size': 10\n",
    "* 'alpha': 0.7\n"
   ]
  },
  {
   "cell_type": "markdown",
   "id": "e0183372",
   "metadata": {},
   "source": [
    "#### Result:\n"
   ]
  },
  {
   "cell_type": "code",
   "execution_count": null,
   "id": "48c0cadf",
   "metadata": {},
   "outputs": [],
   "source": []
  },
  {
   "cell_type": "markdown",
   "id": "caf2a81d",
   "metadata": {},
   "source": [
    "#### Task 19\n",
    "##### Create a dictionary  `common_low_kwargs_ex`  with the arguments for the low income filter:\n"
   ]
  },
  {
   "cell_type": "code",
   "execution_count": null,
   "id": "23ea3efd",
   "metadata": {},
   "outputs": [],
   "source": [
    "* 'view': low_view_ex\n",
    "* 'color': '#002859'\n",
    "* 'legend_label': 'low'\n"
   ]
  },
  {
   "cell_type": "markdown",
   "id": "43da55d9",
   "metadata": {},
   "source": [
    "#### Result:\n"
   ]
  },
  {
   "cell_type": "code",
   "execution_count": null,
   "id": "29262cc1",
   "metadata": {},
   "outputs": [],
   "source": []
  },
  {
   "cell_type": "markdown",
   "id": "3575027c",
   "metadata": {},
   "source": [
    "#### Task 20\n",
    "##### Create a dictionary  `common_high_kwargs_ex`  with the arguments for the high income filter:\n"
   ]
  },
  {
   "cell_type": "code",
   "execution_count": null,
   "id": "fc2bc012",
   "metadata": {},
   "outputs": [],
   "source": [
    "* 'view': high_view_ex\n",
    "* 'color': '#FFC324'\n",
    "* 'legend_label': 'high'\n"
   ]
  },
  {
   "cell_type": "markdown",
   "id": "8633fbe5",
   "metadata": {},
   "source": [
    "#### Result:\n"
   ]
  },
  {
   "cell_type": "code",
   "execution_count": null,
   "id": "ce02b98b",
   "metadata": {},
   "outputs": [],
   "source": []
  },
  {
   "cell_type": "markdown",
   "id": "4ab66c9b",
   "metadata": {},
   "source": [
    "#### Task 21\n",
    "##### Create a figure `hide_fig_ex` with a scatter plot using the dictionaries where the \"low\" class is hidden if the \"high\" class is clicked in the legend and vice versa. \n",
    "##### Title the plot 'Click Legend to HIDE Data'\n",
    "#### Result:\n"
   ]
  },
  {
   "cell_type": "code",
   "execution_count": null,
   "id": "c1608cb4",
   "metadata": {},
   "outputs": [],
   "source": []
  },
  {
   "cell_type": "markdown",
   "id": "05790cdd",
   "metadata": {},
   "source": [
    "#### Task 22\n",
    "##### Create a figure `mute_fig_ex` with a scatter plot using the dictionaries where the \"low\" class is muted if the \"high\" class is clicked in the legend and vice versa. \n",
    "##### Title the plot 'Click Legend to MUTE Data'\n",
    "#### Result:\n"
   ]
  },
  {
   "cell_type": "code",
   "execution_count": null,
   "id": "3b847696",
   "metadata": {},
   "outputs": [],
   "source": []
  },
  {
   "cell_type": "markdown",
   "id": "de0c78e2",
   "metadata": {},
   "source": [
    "#### Task 23\n",
    "##### Arrange the plots `mute_fig_ex` and `hide_fig_ex` next to each other in a row layout.\n",
    "#### Result:\n"
   ]
  },
  {
   "cell_type": "code",
   "execution_count": null,
   "id": "46dc90dc",
   "metadata": {},
   "outputs": [],
   "source": []
  },
  {
   "cell_type": "markdown",
   "id": "89f6d05e",
   "metadata": {},
   "source": [
    "#### Please refer to module 4 of InteractiveVisualizationWithBokeh - InteractivePlots for Tasks 24-26\n",
    "#### Task 24\n",
    "##### Create an interactive widget to select the `x` and `y` variables from the `ex_viz` dataset from a drop-down menu. \n",
    "##### Plot a diamond glyph plot  `p_ex` with the selected `x` and `y` variables. \n",
    "##### Set `color` of glyphs to `purple`, `size` to `15` and `alpha` to `1`.\n",
    "##### Set the axis labels and titles appropriately.\n",
    "##### Use the @interact_manual method so that the parameters can be selected before re-running the plot. \n",
    "#### Result:\n"
   ]
  },
  {
   "cell_type": "code",
   "execution_count": null,
   "id": "b715b1b1",
   "metadata": {},
   "outputs": [],
   "source": []
  },
  {
   "cell_type": "markdown",
   "id": "794bda65",
   "metadata": {},
   "source": [
    "#### Task 25\n",
    "##### Create an interactive  `plotly` widget. \n",
    "##### To do this :\n"
   ]
  },
  {
   "cell_type": "code",
   "execution_count": null,
   "id": "b378987e",
   "metadata": {},
   "outputs": [],
   "source": [
    "* Import  `plotly` and `cufflinks` packages and the required packages from `plotly.offline`\n",
    "* Initialise notebook mode for `cufflinks` and go offline\n",
    "* Create an interactive widget to select the `x` and `y` variables from the `ex_viz` dataset from a drop-down menu\n",
    "* Add drop-down menus to select `theme` and `colorscale`\n",
    "* Plot a scatterplot with the selected `x` and `y` variables, `theme` and `colorscale`\n",
    "* Set the `markers` of the scatterplot to be based on the value of `per_capita_income_class`\n",
    "* Set the axis labels and titles appropriately\n"
   ]
  },
  {
   "cell_type": "markdown",
   "id": "8f5a99da",
   "metadata": {},
   "source": [
    "##### Use the @interact_manual method so that the parameters can be selected before re-running the plot. \n",
    "#### Result:\n"
   ]
  },
  {
   "cell_type": "code",
   "execution_count": null,
   "id": "35c75932",
   "metadata": {},
   "outputs": [],
   "source": []
  },
  {
   "cell_type": "markdown",
   "id": "f3e75cfb",
   "metadata": {},
   "source": [
    "#### Task 26\n",
    "##### Create a figure with `plot_width = 500` and `plot_height = 500` .\n",
    "##### Create a plot with circle glyphs, with `percent_dependent` on the x-axis and  `hardship_index` on the y-axis.\n",
    "##### Set `size` of the circles as `10`, `color `as `darkgreen` and `alpha` as `0.7`. \n",
    "##### Set `title` of the figure and name the x-axis and y-axis appropriately.\n",
    "##### Save the `bokeh` plot you created to your `plot_dir` and name it `bokeh-interactive-plot.html`.\n",
    "#### Result:\n"
   ]
  },
  {
   "cell_type": "code",
   "execution_count": null,
   "id": "6d689a01",
   "metadata": {},
   "outputs": [],
   "source": []
  }
 ],
 "metadata": {
  "language": "python"
 },
 "nbformat": 4,
 "nbformat_minor": 5
}
