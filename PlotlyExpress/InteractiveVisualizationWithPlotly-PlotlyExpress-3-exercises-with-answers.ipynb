{
 "cells": [
  {
   "cell_type": "markdown",
   "id": "2d65c3c5",
   "metadata": {},
   "source": [
    "## INTERACTIVEVISUALIZATIONWITHPLOTLY/PLOTLYEXPRESS/INTERACTIVEVISUALIZATIONWITHPLOTLY PLOTLYEXPRESS 3 EXERCISE ANSWERS ##\n",
    "#### Please refer to module 1 of InteractiveVisualizationWithPlotly - PlotlyExpress for Tasks 1-3\n",
    "#### Task 1\n",
    "##### Import the Plotly Express library as px.\n",
    "##### Use the Plotly Express library to pull in the dataset `iris` and save it as iris_df.\n",
    "#### Result:\n"
   ]
  },
  {
   "cell_type": "code",
   "execution_count": null,
   "id": "da350067",
   "metadata": {},
   "outputs": [],
   "source": [
    "import plotly.express as px\n",
    "iris_df = px.data.iris()\n"
   ]
  },
  {
   "cell_type": "markdown",
   "id": "a5920a04",
   "metadata": {},
   "source": [
    "#### Task 2 \n",
    "##### Create a histogram of petal_length colored by species. \n",
    "##### Add a title, choose a number of bins, and change the axes labels, and the color palette as you see fit.\n",
    "#### Result:\n"
   ]
  },
  {
   "cell_type": "code",
   "execution_count": null,
   "id": "c9ed94f1",
   "metadata": {},
   "outputs": [],
   "source": [
    "fig=px.histogram(iris_df, \n",
    "          x = 'petal_length', \n",
    "          color = 'species', \n",
    "          title = 'Petal Length by Species', \n",
    "          labels = {'petal_length':'Petal Length'}, \n",
    "          color_discrete_sequence=px.colors.sequential.Aggrnyl, \n",
    "          nbins = 40)\n",
    "fig.show()\n"
   ]
  },
  {
   "cell_type": "markdown",
   "id": "3ba18daa",
   "metadata": {},
   "source": [
    "#### Task 3 \n",
    "##### Create a box plot of `sepal_length` colored by species.  \n",
    "##### Add a title, change axes labels, and the color palette as you see fit.\n",
    "#### Result:\n"
   ]
  },
  {
   "cell_type": "code",
   "execution_count": null,
   "id": "baad0535",
   "metadata": {},
   "outputs": [],
   "source": [
    "fig=px.box(diris_df, \n",
    "          x = 'sepal_length', \n",
    "          color = 'species', \n",
    "          title = 'Sepal Length by Species', \n",
    "          labels = {'sepal_length', \"Sepal Length\"},\n",
    "          color_discrete_sequence = px.colors.sequential.Blackbody)\n",
    "fig.show()\n"
   ]
  },
  {
   "cell_type": "markdown",
   "id": "0c94d0eb",
   "metadata": {},
   "source": [
    "#### Please refer to module 2 of InteractiveVisualizationWithPlotly - PlotlyExpress for Tasks 4-8\n",
    "#### Task 4\n",
    "##### Load the dataset `experiment` from Plotly Express and save it as `exps_df`.\n",
    "##### Load the dataset `stocks` from `plotly express` as stocks_df.\n",
    "#### Result:\n"
   ]
  },
  {
   "cell_type": "code",
   "execution_count": null,
   "id": "bb6befc9",
   "metadata": {},
   "outputs": [],
   "source": [
    "exps_df = px.data.experiment()\n",
    "stocks_df = px.data.stocks()\n"
   ]
  },
  {
   "cell_type": "markdown",
   "id": "c0fb713e",
   "metadata": {},
   "source": [
    "#### Task 5\n",
    "##### Create a scatter plot using exps, plot experiment_1 versus experiment_2, coloring by group. \n",
    "#### Result:\n"
   ]
  },
  {
   "cell_type": "code",
   "execution_count": null,
   "id": "5839eeb1",
   "metadata": {},
   "outputs": [],
   "source": [
    "fig = px.scatter(exps_df, \n",
    "          x = 'experiment_1', \n",
    "          y = 'experiment_2', \n",
    "          color = 'group')\n",
    "fig.show()\n"
   ]
  },
  {
   "cell_type": "markdown",
   "id": "161c222a",
   "metadata": {},
   "source": [
    "#### Task 6\n",
    "##### Use the code from Task 2 and create a linear regression by group.  \n",
    "##### Show the model summary for your group of choice.  \n",
    "##### Is this a good model?\n",
    "#### Result:\n"
   ]
  },
  {
   "cell_type": "code",
   "execution_count": null,
   "id": "90876cd6",
   "metadata": {},
   "outputs": [],
   "source": [
    "fig = px.scatter(exps_df, \n",
    "          x = 'experiment_1', \n",
    "          y = 'experiment_2', \n",
    "          color = 'group', \n",
    "          trendline = 'ols')\n",
    "fig.show()\n",
    "results = px.get_trendline_results(fig)\n",
    "results.query(\"group=='treatment'\").px_fit_results.iloc[0].summary()\n"
   ]
  },
  {
   "cell_type": "markdown",
   "id": "5bebb9e8",
   "metadata": {},
   "source": [
    "#### Task 7\n",
    "##### Create a line plot using the stocksdf.  \n",
    "##### Use pandas and melt to make the data long for plotting all the stocks on the same plot, use the code below:\n"
   ]
  },
  {
   "cell_type": "code",
   "execution_count": null,
   "id": "791f24db",
   "metadata": {},
   "outputs": [],
   "source": [
    "import pandas as pd\n",
    "stocksdf_long = pd.melt(stocks_df, id_vars='date', value_name='Value', var_name='Stock')\n"
   ]
  },
  {
   "cell_type": "markdown",
   "id": "2c8477fc",
   "metadata": {},
   "source": [
    "##### Plot each line colored by Stock.\n",
    "#### Result:\n"
   ]
  },
  {
   "cell_type": "code",
   "execution_count": null,
   "id": "8167ba7d",
   "metadata": {},
   "outputs": [],
   "source": [
    "fig = px.line(stocksdf_long, \n",
    "          x = 'date', \n",
    "          y = 'Value', \n",
    "          color = 'Stock')\n",
    "fig.show()\n"
   ]
  },
  {
   "cell_type": "markdown",
   "id": "4d311cee",
   "metadata": {},
   "source": [
    "#### Task 8\n",
    "##### Create a Scatter Matrix using the expsdf data.\n",
    "##### Save the figure as an html file.\n",
    "#### Result: \n"
   ]
  },
  {
   "cell_type": "code",
   "execution_count": null,
   "id": "bc97b4ee",
   "metadata": {},
   "outputs": [],
   "source": [
    "fig = px.scatter_matrix(expsdf, \n",
    "          dimensions = ['experiment_1','experiment_2', 'experiment_3'])\n",
    "fig.show()\n",
    "fig.write_html('expscattermatrix.html')\n"
   ]
  },
  {
   "cell_type": "markdown",
   "id": "fbf14941",
   "metadata": {},
   "source": [
    "#### Please refer to module 3 of InteractiveVisualizationWithPlotly - PlotlyExpress for Tasks 9-14\n",
    "#### Task 9\n",
    "##### Use the Plotly Express library to pull in the dataset `election` and save it as `el_df`.\n",
    "##### Load in `gapminder` from Plotly Express and save as `gap_df`.\n",
    "##### Load in `experiment` from Plotly Express and save as `exp_df`.\n",
    "#### Result:\n"
   ]
  },
  {
   "cell_type": "code",
   "execution_count": null,
   "id": "00854ee0",
   "metadata": {},
   "outputs": [],
   "source": [
    "el_df = px.data.election()\n",
    "gap_df = px.data.gapminder()\n",
    "exp_df= px.data.experiment()\n"
   ]
  },
  {
   "cell_type": "markdown",
   "id": "dd553d23",
   "metadata": {},
   "source": [
    "#### Task 10\n",
    "##### Create a correlation plot using a subset of exp_df which includes the columns `experiment_1`, `experiment_2`, and  `experiment_3`. \n",
    "##### Which of these are correlated?\n",
    "#### Result:\n"
   ]
  },
  {
   "cell_type": "code",
   "execution_count": null,
   "id": "e49d4f9e",
   "metadata": {},
   "outputs": [],
   "source": [
    "expdf_subset = expdf[['experiment_1', 'experiment_2', 'experiment_3']].corr()\n",
    "fig = px.imshow(expdf_subset, \n",
    "          zmin = -1, \n",
    "          zmax = 1)\n",
    "fig.show()\n"
   ]
  },
  {
   "cell_type": "markdown",
   "id": "2e37b9c5",
   "metadata": {},
   "source": [
    "#### Task 11\n",
    "##### Create a density heatmap of `experiment_1` and `experiment_3`.  \n",
    "##### Would both of these contribute to a model?\n",
    "#### Result:\n"
   ]
  },
  {
   "cell_type": "code",
   "execution_count": null,
   "id": "287c2623",
   "metadata": {},
   "outputs": [],
   "source": [
    "fig = px.density_heatmap(exp_df, \n",
    "            x = 'experiment_1', \n",
    "            y = 'experiment_2')\n",
    "fig.show()\n"
   ]
  },
  {
   "cell_type": "markdown",
   "id": "f504972b",
   "metadata": {},
   "source": [
    "#### Task 12\n",
    "##### Use gapdf and create a choropleth map of `gdpPercap` in year 1982 for the world. \n",
    "#### Result:\n"
   ]
  },
  {
   "cell_type": "code",
   "execution_count": null,
   "id": "957e949a",
   "metadata": {},
   "outputs": [],
   "source": [
    "gapdf2 = gapdf.query(\"year==1982\")\n",
    "fig = px.choropleth(gapdf2, \n",
    "          locations = \"iso_alpha\",\n",
    "          color = \"gdpPercap\", \n",
    "          hover_name = \"country\", \n",
    "          color_continuous_scale = px.colors.sequential.Plasma)\n",
    "fig.show()\n"
   ]
  },
  {
   "cell_type": "markdown",
   "id": "b261ed96",
   "metadata": {},
   "source": [
    "#### Task 13\n",
    "##### Use `el_df` and load in the geoJSON that goes with it to make a map of the votes for Coderre.\n",
    "#### Result: \n"
   ]
  },
  {
   "cell_type": "code",
   "execution_count": null,
   "id": "d39db80f",
   "metadata": {},
   "outputs": [],
   "source": [
    "geojson = px.data.election_geojson()\n",
    "fig = px.choropleth(el_df, \n",
    "          geojson = geojson, \n",
    "          color = \"Coderre\",\n",
    "          locations = \"district\", \n",
    "          featureidkey = \"properties.district\",\n",
    "          projection = \"mercator\")\n",
    "          \n",
    "fig.update_geos(fitbounds = \"locations\", \n",
    "          visible = False)\n",
    "          \n",
    "fig.update_layout(margin = {\"r\":0,\"t\":0,\"l\":0,\"b\":0})\n",
    "fig.show()\n"
   ]
  },
  {
   "cell_type": "markdown",
   "id": "4f06c419",
   "metadata": {},
   "source": [
    "#### Task 14\n",
    "##### Use `gapdf` to create an animation of `gdpPercap` over the world by using year as the `animation_frame`.\n",
    "#### Result:\n"
   ]
  },
  {
   "cell_type": "code",
   "execution_count": null,
   "id": "dc7eb842",
   "metadata": {},
   "outputs": [],
   "source": [
    "fig=px.choropleth(gapdf,\n",
    "          locations = \"iso_alpha\", \n",
    "          color = \"gdpPercap\", \n",
    "          hover_name = \"country\", \n",
    "          animation_frame = \"year\")\n",
    "fig.show()\n"
   ]
  }
 ],
 "metadata": {
  "kernelspec": {
   "display_name": "Python 3 (ipykernel)",
   "language": "python",
   "name": "python3"
  },
  "language": "python",
  "language_info": {
   "codemirror_mode": {
    "name": "ipython",
    "version": 3
   },
   "file_extension": ".py",
   "mimetype": "text/x-python",
   "name": "python",
   "nbconvert_exporter": "python",
   "pygments_lexer": "ipython3",
   "version": "3.9.10"
  }
 },
 "nbformat": 4,
 "nbformat_minor": 5
}
